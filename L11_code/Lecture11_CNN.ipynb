{
  "nbformat": 4,
  "nbformat_minor": 0,
  "metadata": {
    "colab": {
      "name": "Lecture11_pythonized.ipynb",
      "provenance": [],
      "toc_visible": true,
      "include_colab_link": true
    },
    "kernelspec": {
      "name": "python3",
      "display_name": "Python 3"
    }
  },
  "cells": [
    {
      "cell_type": "markdown",
      "metadata": {
        "id": "view-in-github",
        "colab_type": "text"
      },
      "source": [
        "<a href=\"https://colab.research.google.com/github/retico/cmepda_medphys/blob/master/L11_code/Lecture11_CNN_pythonized.ipynb\" target=\"_parent\"><img src=\"https://colab.research.google.com/assets/colab-badge.svg\" alt=\"Open In Colab\"/></a>"
      ]
    },
    {
      "cell_type": "code",
      "metadata": {
        "id": "Gj2DyPQdvcjY",
        "colab_type": "code",
        "colab": {}
      },
      "source": [
        "import os\n",
        "os.environ['TF_CPP_MIN_LOG_LEVEL'] = '3'"
      ],
      "execution_count": 0,
      "outputs": []
    },
    {
      "cell_type": "code",
      "metadata": {
        "id": "b2f0BQqTwwTK",
        "colab_type": "code",
        "colab": {}
      },
      "source": [
        "import matplotlib.pyplot as plt"
      ],
      "execution_count": 0,
      "outputs": []
    },
    {
      "cell_type": "markdown",
      "metadata": {
        "id": "LfPNt06nZRfC",
        "colab_type": "text"
      },
      "source": [
        "# Importing the dataset from Google Drive"
      ]
    },
    {
      "cell_type": "code",
      "metadata": {
        "id": "ycQRMl2Bg4Me",
        "colab_type": "code",
        "colab": {}
      },
      "source": [
        "from google.colab import drive\n",
        "drive.mount('/content/gdrive')"
      ],
      "execution_count": 0,
      "outputs": []
    },
    {
      "cell_type": "code",
      "metadata": {
        "id": "9otP7owXWgrl",
        "colab_type": "code",
        "colab": {}
      },
      "source": [
        "!ls /content/gdrive/My\\ Drive/cmepda_medphys_dataset/IMAGES/Mammography_micro/"
      ],
      "execution_count": 0,
      "outputs": []
    },
    {
      "cell_type": "code",
      "metadata": {
        "id": "oLt3yMlrV3Eg",
        "colab_type": "code",
        "colab": {}
      },
      "source": [
        "!unzip -q /content/gdrive/My\\ Drive/cmepda_medphys_dataset/IMAGES/Mammography_micro/Train.zip  -d /content/\n",
        "!unzip -q /content/gdrive/My\\ Drive/cmepda_medphys_dataset/IMAGES/Mammography_micro/Test.zip  -d /content/"
      ],
      "execution_count": 0,
      "outputs": []
    },
    {
      "cell_type": "code",
      "metadata": {
        "id": "MEGwNxX5V_88",
        "colab_type": "code",
        "colab": {}
      },
      "source": [
        "!ls /content/{Test,Train}"
      ],
      "execution_count": 0,
      "outputs": []
    },
    {
      "cell_type": "code",
      "metadata": {
        "id": "9zTSCVi_YtTg",
        "colab_type": "code",
        "colab": {}
      },
      "source": [
        ""
      ],
      "execution_count": 0,
      "outputs": []
    },
    {
      "cell_type": "markdown",
      "metadata": {
        "id": "Zqw3aYF1gDFD",
        "colab_type": "text"
      },
      "source": [
        "# Reading the images"
      ]
    },
    {
      "cell_type": "code",
      "metadata": {
        "id": "rqCZ72z2gCIH",
        "colab_type": "code",
        "colab": {}
      },
      "source": [
        "from skimage.io import imread\n",
        "import os\n",
        "import glob\n",
        "import numpy as np"
      ],
      "execution_count": 0,
      "outputs": []
    },
    {
      "cell_type": "code",
      "metadata": {
        "id": "C-r0YaUuhMAR",
        "colab_type": "code",
        "colab": {}
      },
      "source": [
        "def read_imgs(dataset_path, classes):\n",
        "  tmp = []\n",
        "  labels = []\n",
        "  for cls in classes:\n",
        "    fnames = glob.glob(os.path.join(dataset_path, str(cls), '*.pgm'))\n",
        "    tmp += [ imread(fname) for fname in fnames ]\n",
        "    labels += len(fnames)*[cls]\n",
        "  return np.array(tmp, dtype='float32')[..., np.newaxis]/255, np.array(labels)"
      ],
      "execution_count": 0,
      "outputs": []
    },
    {
      "cell_type": "code",
      "metadata": {
        "id": "x81szNHPklZ4",
        "colab_type": "code",
        "colab": {}
      },
      "source": [
        "train_dataset_path = '/content/Train'\n",
        "x_train, y_train = read_imgs(train_dataset_path, [0, 1])\n",
        "\n",
        "test_dataset_path = '/content/Test'\n",
        "x_test, y_test = read_imgs(test_dataset_path, [0, 1])"
      ],
      "execution_count": 0,
      "outputs": []
    },
    {
      "cell_type": "code",
      "metadata": {
        "id": "mfBrBpq6g7Ka",
        "colab_type": "code",
        "colab": {}
      },
      "source": [
        "print(x_train.shape, y_train.shape)\n",
        "print(x_test.shape, y_test.shape)\n"
      ],
      "execution_count": 0,
      "outputs": []
    },
    {
      "cell_type": "markdown",
      "metadata": {
        "id": "Blz5VJ8pajXz",
        "colab_type": "text"
      },
      "source": [
        "# Defining a CNN model"
      ]
    },
    {
      "cell_type": "code",
      "metadata": {
        "id": "7plXV2WyaoGt",
        "colab_type": "code",
        "colab": {}
      },
      "source": [
        "from keras.layers import Conv2D, BatchNormalization, MaxPool2D, Dense, Flatten, InputLayer, Activation\n",
        "from keras.models import Sequential"
      ],
      "execution_count": 0,
      "outputs": []
    },
    {
      "cell_type": "code",
      "metadata": {
        "id": "XBloTVdsaewM",
        "colab_type": "code",
        "colab": {}
      },
      "source": [
        "shape = (60, 60, 1)\n",
        "def make_model():\n",
        "  model = Sequential([\n",
        "      #InputLayer(input_shape=(60,60,1)),\n",
        "      \n",
        "      Conv2D(8, (3,3), padding='same', input_shape=(60, 60, 1)),\n",
        "      BatchNormalization(),\n",
        "      Activation('relu'),\n",
        "      \n",
        "      MaxPool2D((2,2)),\n",
        "      \n",
        "      Conv2D(16, (3,3), padding='same'),\n",
        "      BatchNormalization(),\n",
        "      Activation('relu'),\n",
        "\n",
        "      MaxPool2D((2,2)),\n",
        "        \n",
        "      Conv2D(32, (3,3), padding='same'),\n",
        "      BatchNormalization(),\n",
        "      Activation('relu'),\n",
        "\n",
        "      Flatten(), \n",
        "      Dense(1, activation='sigmoid')\n",
        "  ])\n",
        "  \n",
        "  return model"
      ],
      "execution_count": 0,
      "outputs": []
    },
    {
      "cell_type": "code",
      "metadata": {
        "id": "pskdG1qFeMX_",
        "colab_type": "code",
        "colab": {}
      },
      "source": [
        "model = make_model()\n",
        "model.summary()"
      ],
      "execution_count": 0,
      "outputs": []
    },
    {
      "cell_type": "code",
      "metadata": {
        "id": "_Kkyi0Gdm5if",
        "colab_type": "code",
        "colab": {}
      },
      "source": [
        "from keras.optimizers import SGD\n",
        "model.compile(optimizer=SGD(lr=0.001, momentum=0.9), loss='binary_crossentropy', metrics=['accuracy'])"
      ],
      "execution_count": 0,
      "outputs": []
    },
    {
      "cell_type": "code",
      "metadata": {
        "id": "bBXWCO-Pl9gr",
        "colab_type": "code",
        "colab": {}
      },
      "source": [
        "from keras.callbacks import ModelCheckpoint\n",
        "checkpoint = ModelCheckpoint(\n",
        "    \"no_augmented.{epoch:02d}-{val_acc:.2f}.h5\", \n",
        "    monitor='val_acc', \n",
        "    verbose=1,\n",
        "    save_best_only=True,\n",
        "    save_weights_only=False,\n",
        "    mode='auto', period=1)"
      ],
      "execution_count": 0,
      "outputs": []
    },
    {
      "cell_type": "code",
      "metadata": {
        "id": "RH25BWCqfbGM",
        "colab_type": "code",
        "colab": {}
      },
      "source": [
        "history = model.fit(x_train, y_train, validation_split=0.3, epochs=50, shuffle=True, callbacks=[checkpoint])"
      ],
      "execution_count": 0,
      "outputs": []
    },
    {
      "cell_type": "code",
      "metadata": {
        "id": "ConM7Babe9VD",
        "colab_type": "code",
        "colab": {}
      },
      "source": [
        "model.save('/content/noaug.h5')"
      ],
      "execution_count": 0,
      "outputs": []
    },
    {
      "cell_type": "markdown",
      "metadata": {
        "id": "uIPqHdYsvjVA",
        "colab_type": "text"
      },
      "source": [
        "# Convert to PNG"
      ]
    },
    {
      "cell_type": "code",
      "metadata": {
        "id": "pMTI6-hnoz5Z",
        "colab_type": "code",
        "colab": {}
      },
      "source": [
        "import PIL\n",
        "import os"
      ],
      "execution_count": 0,
      "outputs": []
    },
    {
      "cell_type": "code",
      "metadata": {
        "id": "xZBLJLRrp7pg",
        "colab_type": "code",
        "colab": {}
      },
      "source": [
        "def convert_to_png(fname, dest_folder):\n",
        "  if not os.path.exists(dest_folder):\n",
        "    os.makedirs(dest_folder)\n",
        "  dest_fname = os.path.basename(fname).replace('.pgm', '.png')\n",
        "  dest_fname = os.path.join(dest_folder, dest_fname)\n",
        "  PIL.Image.open(fname).convert('L').save(dest_fname)\n"
      ],
      "execution_count": 0,
      "outputs": []
    },
    {
      "cell_type": "code",
      "metadata": {
        "id": "q7CPtyFUphWE",
        "colab_type": "code",
        "colab": {}
      },
      "source": [
        "#pgm_list = []\n",
        "#for path, folders, fnames in os.walk('/content/Train/'):\n",
        "#  for fname in fnames:\n",
        "#    pgm_list.append(os.path.join(path, fname))"
      ],
      "execution_count": 0,
      "outputs": []
    },
    {
      "cell_type": "code",
      "metadata": {
        "id": "KGzF87CaplgS",
        "colab_type": "code",
        "colab": {}
      },
      "source": [
        ""
      ],
      "execution_count": 0,
      "outputs": []
    },
    {
      "cell_type": "code",
      "metadata": {
        "id": "WQxzGbJVsVIl",
        "colab_type": "code",
        "colab": {}
      },
      "source": [
        "for data_path in ['/content/Train', '/content/Test']:\n",
        "  for path, folders, fnames in os.walk(data_path):\n",
        "    for fname in fnames:\n",
        "      abs_path = os.path.join(path, fname)\n",
        "      dest_folder = path.replace('Train', 'Train_png').replace('Test', 'Test_png')\n",
        "      convert_to_png(abs_path, dest_folder)\n"
      ],
      "execution_count": 0,
      "outputs": []
    },
    {
      "cell_type": "code",
      "metadata": {
        "id": "UAR9xz66uZWQ",
        "colab_type": "code",
        "colab": {}
      },
      "source": [
        "!ls /content/Test_png/"
      ],
      "execution_count": 0,
      "outputs": []
    },
    {
      "cell_type": "code",
      "metadata": {
        "id": "nbZhCDxIvPai",
        "colab_type": "code",
        "colab": {}
      },
      "source": [
        ""
      ],
      "execution_count": 0,
      "outputs": []
    },
    {
      "cell_type": "markdown",
      "metadata": {
        "id": "un_vcpFHoL1u",
        "colab_type": "text"
      },
      "source": [
        "# Data aumentation"
      ]
    },
    {
      "cell_type": "code",
      "metadata": {
        "id": "r6Zoq1UkoGLl",
        "colab_type": "code",
        "colab": {}
      },
      "source": [
        "from keras.preprocessing.image import ImageDataGenerator"
      ],
      "execution_count": 0,
      "outputs": []
    },
    {
      "cell_type": "code",
      "metadata": {
        "id": "wihSLPuRm4cU",
        "colab_type": "code",
        "colab": {}
      },
      "source": [
        "train_dataset_path = '/content/Train_png'\n",
        "batch_size = 32\n",
        "img_width, img_height = (60, 60)\n",
        "\n",
        "train_datagen = ImageDataGenerator(\n",
        "        rotation_range=40,\n",
        "        width_shift_range=0.2,\n",
        "        height_shift_range=0.2,\n",
        "        rescale=1./255,\n",
        "        shear_range=0.2,\n",
        "        zoom_range=0.2,\n",
        "        horizontal_flip=True,\n",
        "        fill_mode='reflect',\n",
        "        validation_split=0.3)\n",
        "        \n",
        "train_gen = train_datagen.flow_from_directory(\n",
        "    train_dataset_path,\n",
        "    target_size=(img_width, img_height),\n",
        "    color_mode='grayscale', \n",
        "    class_mode='binary',\n",
        "    subset='training')\n",
        "\n",
        "val_gen = train_datagen.flow_from_directory(\n",
        "    train_dataset_path,\n",
        "    target_size=(img_width, img_height),\n",
        "    batch_size=batch_size,\n",
        "    color_mode='grayscale',\n",
        "    class_mode='binary',\n",
        "    subset='validation')\n"
      ],
      "execution_count": 0,
      "outputs": []
    },
    {
      "cell_type": "code",
      "metadata": {
        "id": "R1H4S1Denats",
        "colab_type": "code",
        "colab": {}
      },
      "source": [
        "train_gen.next()[0].shape"
      ],
      "execution_count": 0,
      "outputs": []
    },
    {
      "cell_type": "code",
      "metadata": {
        "id": "Yvi4DLv_wnUh",
        "colab_type": "code",
        "colab": {}
      },
      "source": [
        "plt.imshow(train_gen.next()[0][1].squeeze())"
      ],
      "execution_count": 0,
      "outputs": []
    },
    {
      "cell_type": "code",
      "metadata": {
        "id": "qX2GKQ2HlGv0",
        "colab_type": "code",
        "colab": {}
      },
      "source": [
        ""
      ],
      "execution_count": 0,
      "outputs": []
    },
    {
      "cell_type": "code",
      "metadata": {
        "id": "avE0zljglFk5",
        "colab_type": "code",
        "colab": {}
      },
      "source": [
        "from keras.callbacks import ModelCheckpoint\n",
        "checkpoint = ModelCheckpoint(\n",
        "    \"augmented.{epoch:02d}-{val_acc:.2f}.h5\", \n",
        "    monitor='val_acc', \n",
        "    verbose=1,\n",
        "    save_best_only=True,\n",
        "    save_weights_only=False,\n",
        "    mode='auto', period=1)"
      ],
      "execution_count": 0,
      "outputs": []
    },
    {
      "cell_type": "code",
      "metadata": {
        "id": "TegcvheonedR",
        "colab_type": "code",
        "colab": {}
      },
      "source": [
        "from keras.optimizers import SGD"
      ],
      "execution_count": 0,
      "outputs": []
    },
    {
      "cell_type": "code",
      "metadata": {
        "id": "LgZtWjTgjsb6",
        "colab_type": "code",
        "colab": {}
      },
      "source": [
        "model = make_model()\n",
        "model.compile(optimizer=SGD(lr=0.001, momentum=0.9), loss='binary_crossentropy', metrics=['accuracy'])"
      ],
      "execution_count": 0,
      "outputs": []
    },
    {
      "cell_type": "code",
      "metadata": {
        "id": "K7yiPz99j_Fw",
        "colab_type": "code",
        "colab": {}
      },
      "source": [
        "batch_size=32\n",
        "history = model.fit_generator(\n",
        "        train_gen,\n",
        "        steps_per_epoch=278 // batch_size,\n",
        "        epochs=50,\n",
        "        validation_data=val_gen,\n",
        "        validation_steps= 118 // batch_size,\n",
        "        callbacks=[checkpoint])"
      ],
      "execution_count": 0,
      "outputs": []
    },
    {
      "cell_type": "code",
      "metadata": {
        "id": "_HeFL52QkDQh",
        "colab_type": "code",
        "colab": {}
      },
      "source": [
        "import matplotlib.pyplot as plt\n",
        "plt.plot(history.history['loss'])\n",
        "plt.figure()\n",
        "plt.plot(history.history['val_acc'])\n",
        "plt.figure()\n",
        "plt.plot(history.history['acc'])"
      ],
      "execution_count": 0,
      "outputs": []
    },
    {
      "cell_type": "markdown",
      "metadata": {
        "id": "PpIDYyYf29HD",
        "colab_type": "text"
      },
      "source": [
        "# Saving the model"
      ]
    },
    {
      "cell_type": "code",
      "metadata": {
        "id": "2SjGTsN4GxSY",
        "colab_type": "code",
        "colab": {}
      },
      "source": [
        "!ls /content"
      ],
      "execution_count": 0,
      "outputs": []
    },
    {
      "cell_type": "code",
      "metadata": {
        "id": "s7sjHFpGpPtI",
        "colab_type": "code",
        "colab": {}
      },
      "source": [
        "model.save('/content/augmented.h5')"
      ],
      "execution_count": 0,
      "outputs": []
    },
    {
      "cell_type": "code",
      "metadata": {
        "id": "s_OvsmnhuD02",
        "colab_type": "code",
        "colab": {}
      },
      "source": [
        "from keras.models import load_model"
      ],
      "execution_count": 0,
      "outputs": []
    },
    {
      "cell_type": "code",
      "metadata": {
        "id": "otd8PkR31jKO",
        "colab_type": "code",
        "colab": {}
      },
      "source": [
        "imported_model = load_model('/content/augmented.h5')"
      ],
      "execution_count": 0,
      "outputs": []
    },
    {
      "cell_type": "code",
      "metadata": {
        "id": "sr-M8X0M1o0M",
        "colab_type": "code",
        "colab": {}
      },
      "source": [
        "imported_model.summary()"
      ],
      "execution_count": 0,
      "outputs": []
    },
    {
      "cell_type": "markdown",
      "metadata": {
        "id": "ziJxv3y8fYoo",
        "colab_type": "text"
      },
      "source": [
        "# Evaluate the performances of the two models"
      ]
    },
    {
      "cell_type": "code",
      "metadata": {
        "id": "6u8dNJW0fLd3",
        "colab_type": "code",
        "colab": {}
      },
      "source": [
        "noaug_model = load_model('/content/noaug.h5')\n",
        "aug_model = load_model('/content/augmented.h5')"
      ],
      "execution_count": 0,
      "outputs": []
    },
    {
      "cell_type": "code",
      "metadata": {
        "id": "OfZEHjKYfz_v",
        "colab_type": "code",
        "colab": {}
      },
      "source": [
        "x_test, y_test = read_imgs('/content/Test', [0,1])"
      ],
      "execution_count": 0,
      "outputs": []
    },
    {
      "cell_type": "code",
      "metadata": {
        "id": "MoMbhMQMf_E9",
        "colab_type": "code",
        "colab": {}
      },
      "source": [
        "noaug_model.evaluate(x_test, y_test)"
      ],
      "execution_count": 0,
      "outputs": []
    },
    {
      "cell_type": "code",
      "metadata": {
        "id": "z5a9XysRgVeE",
        "colab_type": "code",
        "colab": {}
      },
      "source": [
        "aug_model.evaluate(x_test, y_test)"
      ],
      "execution_count": 0,
      "outputs": []
    },
    {
      "cell_type": "markdown",
      "metadata": {
        "id": "vqHN-zmw4IPI",
        "colab_type": "text"
      },
      "source": [
        "# Visualizing"
      ]
    },
    {
      "cell_type": "code",
      "metadata": {
        "id": "E7uBee6vhnXL",
        "colab_type": "code",
        "colab": {}
      },
      "source": [
        "model = load_model('/content/augmented.h5')"
      ],
      "execution_count": 0,
      "outputs": []
    },
    {
      "cell_type": "code",
      "metadata": {
        "id": "RvU8jYJI4OFK",
        "colab_type": "code",
        "colab": {}
      },
      "source": [
        "model.layers\n"
      ],
      "execution_count": 0,
      "outputs": []
    },
    {
      "cell_type": "code",
      "metadata": {
        "id": "rtVKY07r3bA_",
        "colab_type": "code",
        "colab": {}
      },
      "source": [
        "from keras import models\n",
        "layer_outputs = [layer.output for layer in model.layers]\n",
        "activation_model = models.Model(inputs=model.input, outputs=layer_outputs)"
      ],
      "execution_count": 0,
      "outputs": []
    },
    {
      "cell_type": "code",
      "metadata": {
        "id": "qlPRAEEO4i49",
        "colab_type": "code",
        "colab": {}
      },
      "source": [
        "micro_calc = val_gen.next()[0][2][np.newaxis,...]\n"
      ],
      "execution_count": 0,
      "outputs": []
    },
    {
      "cell_type": "code",
      "metadata": {
        "id": "mwxqq2dp4w2G",
        "colab_type": "code",
        "colab": {}
      },
      "source": [
        "plt.imshow(micro_calc.squeeze())"
      ],
      "execution_count": 0,
      "outputs": []
    },
    {
      "cell_type": "code",
      "metadata": {
        "id": "jk8YmIMF5Ro7",
        "colab_type": "code",
        "colab": {}
      },
      "source": [
        "activations = activation_model.predict(micro_calc)"
      ],
      "execution_count": 0,
      "outputs": []
    },
    {
      "cell_type": "code",
      "metadata": {
        "id": "fIOz9u995WG4",
        "colab_type": "code",
        "colab": {}
      },
      "source": [
        "len(activations) == len(model.layers)"
      ],
      "execution_count": 0,
      "outputs": []
    },
    {
      "cell_type": "code",
      "metadata": {
        "id": "j7lOEYAZ5fsC",
        "colab_type": "code",
        "colab": {}
      },
      "source": [
        "activations[0].shape"
      ],
      "execution_count": 0,
      "outputs": []
    },
    {
      "cell_type": "code",
      "metadata": {
        "id": "sl-kNPON5zrV",
        "colab_type": "code",
        "colab": {}
      },
      "source": [
        "for k in range(8):\n",
        "  plt.subplot(2,4, k+1)\n",
        "  plt.imshow(activations[0][..., k].squeeze())\n",
        "  plt.axis(False)"
      ],
      "execution_count": 0,
      "outputs": []
    },
    {
      "cell_type": "code",
      "metadata": {
        "id": "j2a9B1Q_5_67",
        "colab_type": "code",
        "colab": {}
      },
      "source": [
        "for k in range(16):\n",
        "  plt.subplot(2,8, k+1)\n",
        "  plt.imshow(activations[6][..., k].squeeze())\n",
        "  plt.axis(False)"
      ],
      "execution_count": 0,
      "outputs": []
    },
    {
      "cell_type": "code",
      "metadata": {
        "id": "B7kBJYfH7TDZ",
        "colab_type": "code",
        "colab": {}
      },
      "source": [
        "for k in range(32):\n",
        "  plt.subplot(4,8, k+1)\n",
        "  plt.imshow(activations[8][..., k].squeeze())\n",
        "  plt.axis(False)"
      ],
      "execution_count": 0,
      "outputs": []
    },
    {
      "cell_type": "markdown",
      "metadata": {
        "id": "6xsBCcpj-9XG",
        "colab_type": "text"
      },
      "source": [
        "## Visualizing filters"
      ]
    },
    {
      "cell_type": "code",
      "metadata": {
        "id": "7SsEN6gt_UqK",
        "colab_type": "code",
        "colab": {}
      },
      "source": [
        "# retrieve weights from the second hidden layer\n",
        "filters, biases = model.layers[0].get_weights()\n",
        "filters = (filters - filters.min())/(filters.max() - filters.min())\n",
        "filters = filters.squeeze()"
      ],
      "execution_count": 0,
      "outputs": []
    },
    {
      "cell_type": "code",
      "metadata": {
        "id": "R0LlgAas_2VY",
        "colab_type": "code",
        "colab": {}
      },
      "source": [
        ""
      ],
      "execution_count": 0,
      "outputs": []
    },
    {
      "cell_type": "code",
      "metadata": {
        "id": "0z27HgB9BnFv",
        "colab_type": "code",
        "colab": {}
      },
      "source": [
        "for k in range(8):\n",
        "  plt.subplot(2, 4, k+1)\n",
        "  plt.imshow(filters[:,:,k], cmap='gray')\n",
        "  plt.axis(False)"
      ],
      "execution_count": 0,
      "outputs": []
    },
    {
      "cell_type": "code",
      "metadata": {
        "id": "c5Ox_0vtAYf_",
        "colab_type": "code",
        "colab": {}
      },
      "source": [
        "# retrieve weights from the second hidden layer\n",
        "filters, biases = model.layers[4].get_weights()\n",
        "filters = (filters - filters.min())/(filters.max() - filters.min())\n",
        "filters = filters.squeeze()\n",
        "for k in range(16):\n",
        "  plt.subplot(2, 8, k+1)\n",
        "  plt.imshow(filters[:,:,1 ,k], cmap='gray')\n",
        "  plt.axis(False)"
      ],
      "execution_count": 0,
      "outputs": []
    },
    {
      "cell_type": "code",
      "metadata": {
        "id": "tC6Mclr_ChAa",
        "colab_type": "code",
        "colab": {}
      },
      "source": [
        "filters.shape"
      ],
      "execution_count": 0,
      "outputs": []
    }
  ]
}