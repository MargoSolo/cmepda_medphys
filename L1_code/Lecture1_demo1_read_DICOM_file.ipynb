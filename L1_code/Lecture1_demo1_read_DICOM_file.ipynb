{
  "nbformat": 4,
  "nbformat_minor": 0,
  "metadata": {
    "kernelspec": {
      "display_name": "Python 3",
      "language": "python",
      "name": "python3"
    },
    "language_info": {
      "codemirror_mode": {
        "name": "ipython",
        "version": 3
      },
      "file_extension": ".py",
      "mimetype": "text/x-python",
      "name": "python",
      "nbconvert_exporter": "python",
      "pygments_lexer": "ipython3",
      "version": "3.7.3"
    },
    "colab": {
      "name": "Copy of Lecture1_demo1_read_DICOM_file.ipynb",
      "provenance": []
    }
  },
  "cells": [
    {
      "cell_type": "markdown",
      "metadata": {
        "id": "stFmDqShuwU2"
      },
      "source": [
        "# Reading the dataset from Google Drive\n",
        "Prior to this operation be sure to have added the [shared folder](https://drive.google.com/open?id=1YqK7ZkM-P2IrqfD7Pj-SCmjz-GWd_1-Y) to your Google Drive"
      ]
    },
    {
      "cell_type": "code",
      "metadata": {
        "id": "1rZTWcJbuvow",
        "colab": {
          "base_uri": "https://localhost:8080/"
        },
        "outputId": "ee16e8b1-256d-47f1-890d-2d24875c8c9b"
      },
      "source": [
        "from google.colab import drive\n",
        "drive.mount('/content/drive')"
      ],
      "execution_count": 2,
      "outputs": [
        {
          "output_type": "stream",
          "text": [
            "Mounted at /content/drive\n"
          ],
          "name": "stdout"
        }
      ]
    },
    {
      "cell_type": "code",
      "metadata": {
        "id": "8qod2VgJvg19",
        "colab": {
          "base_uri": "https://localhost:8080/"
        },
        "outputId": "41dd867d-1b9c-44e7-f1f2-bd60ada5ad7e"
      },
      "source": [
        "!ls \"/content/drive/My Drive/cmepda_medphys_dataset\""
      ],
      "execution_count": 4,
      "outputs": [
        {
          "output_type": "stream",
          "text": [
            "FEATURES  IMAGES  NETS\n"
          ],
          "name": "stdout"
        }
      ]
    },
    {
      "cell_type": "code",
      "metadata": {
        "id": "QNVzgUb3vwI2"
      },
      "source": [
        "DATASETS = \"/content/drive/My Drive/cmepda_medphys_dataset\""
      ],
      "execution_count": 5,
      "outputs": []
    },
    {
      "cell_type": "markdown",
      "metadata": {
        "id": "kKs2h5xxvKPf"
      },
      "source": [
        "# Working with DICOM files"
      ]
    },
    {
      "cell_type": "code",
      "metadata": {
        "id": "jp6jnRTkNEi4"
      },
      "source": [
        "%matplotlib inline"
      ],
      "execution_count": 6,
      "outputs": []
    },
    {
      "cell_type": "markdown",
      "metadata": {
        "id": "toauehZnNEi8"
      },
      "source": [
        "`%matplotlib inline` \n",
        "is a ‘magic functions’ which sets the backend of matplotlib to the 'inline' backend. It allows to display  the output of plotting commands inline within frontends like the Jupyter notebook, directly below the code cell that produced it. The resulting plots will then also be stored in the notebook document."
      ]
    },
    {
      "cell_type": "markdown",
      "metadata": {
        "id": "879oU3WDNEi9"
      },
      "source": [
        "## Demo 1: reading a DICOM file using the pydicom package\n",
        "\n",
        "This example illustrates how to use the pydicom package to open a DICOM file, print some dataset information (metadata), and show images using matplotlib.\n",
        "\n",
        "Find the documentation and the installation instructions at \n",
        "https://pydicom.github.io/pydicom/stable/\n",
        "\n",
        "You can create and work in an enviroment with python 3 and the numpy library, which is required to manipulate pixel data"
      ]
    },
    {
      "cell_type": "code",
      "metadata": {
        "id": "8E4wwQ4ov53f",
        "colab": {
          "base_uri": "https://localhost:8080/"
        },
        "outputId": "dcfbf8c7-cf8c-44d0-8855-bb9554a99445"
      },
      "source": [
        "!pip install pydicom"
      ],
      "execution_count": 7,
      "outputs": [
        {
          "output_type": "stream",
          "text": [
            "Collecting pydicom\n",
            "\u001b[?25l  Downloading https://files.pythonhosted.org/packages/72/7b/6ed88f82dd33a32cdb43432dab7f84fcd40c49d63251442b3cfe0be983d4/pydicom-2.1.1-py3-none-any.whl (1.9MB)\n",
            "\u001b[K     |████████████████████████████████| 1.9MB 6.9MB/s \n",
            "\u001b[?25hInstalling collected packages: pydicom\n",
            "Successfully installed pydicom-2.1.1\n"
          ],
          "name": "stdout"
        }
      ]
    },
    {
      "cell_type": "code",
      "metadata": {
        "id": "YPDl7vRoNEi-"
      },
      "source": [
        "import os\n",
        "import pydicom\n",
        "import matplotlib.pyplot as plt"
      ],
      "execution_count": 8,
      "outputs": []
    },
    {
      "cell_type": "code",
      "metadata": {
        "id": "dkW9KfhNNEi_"
      },
      "source": [
        "filename = os.path.join(DATASETS, \"IMAGES\", \"DICOM_Examples\", \"Brain_MRI\", \"IM67_1slice.dcm\")\n",
        "dataset = pydicom.dcmread(filename)"
      ],
      "execution_count": 9,
      "outputs": []
    },
    {
      "cell_type": "markdown",
      "metadata": {
        "id": "9-EA5YByNEjB"
      },
      "source": [
        "The `dcmread` function returns a *FileDataset* object, which makes accessible the metadata contained in the DICOM header and the image as numpy array."
      ]
    },
    {
      "cell_type": "code",
      "metadata": {
        "id": "85V8cAcbNEjC",
        "colab": {
          "base_uri": "https://localhost:8080/"
        },
        "outputId": "e3df59cc-ff5d-49af-986d-b990181abefd"
      },
      "source": [
        "print(type(dataset))"
      ],
      "execution_count": 10,
      "outputs": [
        {
          "output_type": "stream",
          "text": [
            "pydicom.dataset.FileDataset\n"
          ],
          "name": "stdout"
        }
      ]
    },
    {
      "cell_type": "markdown",
      "metadata": {
        "id": "vXmDXJp-NEjD"
      },
      "source": [
        "Images are NumPy arrays"
      ]
    },
    {
      "cell_type": "code",
      "metadata": {
        "id": "e6Ef-mpANEjE",
        "colab": {
          "base_uri": "https://localhost:8080/"
        },
        "outputId": "60a6390a-11ee-401b-eec6-fa0324df2605"
      },
      "source": [
        "print(type(dataset.pixel_array))"
      ],
      "execution_count": 11,
      "outputs": [
        {
          "output_type": "stream",
          "text": [
            "<class 'numpy.ndarray'>\n"
          ],
          "name": "stdout"
        }
      ]
    },
    {
      "cell_type": "code",
      "metadata": {
        "id": "mTYM301hNEjH",
        "colab": {
          "base_uri": "https://localhost:8080/"
        },
        "outputId": "ee9da795-3a42-450d-b438-d2c7b78d8a85"
      },
      "source": [
        "# to show the dataset content you can just type dataset \n",
        "dataset"
      ],
      "execution_count": 12,
      "outputs": [
        {
          "output_type": "execute_result",
          "data": {
            "text/plain": [
              "Dataset.file_meta -------------------------------\n",
              "(0002, 0000) File Meta Information Group Length  UL: 228\n",
              "(0002, 0001) File Meta Information Version       OB: b'\\x00\\x01'\n",
              "(0002, 0002) Media Storage SOP Class UID         UI: MR Image Storage\n",
              "(0002, 0003) Media Storage SOP Instance UID      UI: 1.3.6.1.4.1.9590.100.1.2.4365715539284982230698868930013138318\n",
              "(0002, 0010) Transfer Syntax UID                 UI: Explicit VR Little Endian\n",
              "(0002, 0012) Implementation Class UID            UI: 1.3.6.1.4.1.9590.100.1.3.100.9.4\n",
              "(0002, 0013) Implementation Version Name         SH: 'MATLAB IPT 9.4'\n",
              "(0002, 0016) Source Application Entity Title     AE: 'SMARDicomSCP'\n",
              "-------------------------------------------------\n",
              "(0008, 0005) Specific Character Set              CS: 'ISO_IR 100'\n",
              "(0008, 0008) Image Type                          CS: ['ORIGINAL', 'PRIMARY', 'OTHER']\n",
              "(0008, 0016) SOP Class UID                       UI: MR Image Storage\n",
              "(0008, 0018) SOP Instance UID                    UI: 1.3.6.1.4.1.9590.100.1.2.4365715539284982230698868930013138318\n",
              "(0008, 0020) Study Date                          DA: '20170217'\n",
              "(0008, 0021) Series Date                         DA: '20170217'\n",
              "(0008, 0022) Acquisition Date                    DA: '20170217'\n",
              "(0008, 0023) Content Date                        DA: '20170217'\n",
              "(0008, 0030) Study Time                          TM: '181812'\n",
              "(0008, 0031) Series Time                         TM: '183301'\n",
              "(0008, 0032) Acquisition Time                    TM: '183302'\n",
              "(0008, 0033) Content Time                        TM: '183302'\n",
              "(0008, 0050) Accession Number                    SH: '7-1-12304'\n",
              "(0008, 0060) Modality                            CS: 'MR'\n",
              "(0008, 0070) Manufacturer                        LO: 'GE MEDICAL SYSTEMS'\n",
              "(0008, 0080) Institution Name                    LO: 'University Hospital TaleYale'\n",
              "(0008, 0090) Referring Physician's Name          PN: 'Eleonora Medicali'\n",
              "(0008, 1010) Station Name                        SH: 'HKJIEB'\n",
              "(0008, 1030) Study Description                   LO: 'Brain MRI'\n",
              "(0008, 103e) Series Description                  LO: '3D T1w'\n",
              "(0008, 1060) Name of Physician(s) Reading Study  PN: 'Giulio Verdi'\n",
              "(0008, 1070) Operators' Name                     PN: 'Antonio Bluetti'\n",
              "(0008, 1090) Manufacturer's Model Name           LO: 'Signa HDxt'\n",
              "(0010, 0010) Patient's Name                      PN: 'Maria Bianchi'\n",
              "(0010, 0020) Patient ID                          LO: '1234'\n",
              "(0010, 0030) Patient's Birth Date                DA: '19981231'\n",
              "(0010, 0040) Patient's Sex                       CS: 'F'\n",
              "(0010, 1010) Patient's Age                       AS: '019Y'\n",
              "(0010, 1030) Patient's Weight                    DS: \"58.0\"\n",
              "(0010, 21b0) Additional Patient History          LT: ''\n",
              "(0018, 0020) Scanning Sequence                   CS: 'GR'\n",
              "(0018, 0021) Sequence Variant                    CS: ['SS', 'SK']\n",
              "(0018, 0022) Scan Options                        CS: ['FAST_GEMS', 'EDR_GEMS']\n",
              "(0018, 0023) MR Acquisition Type                 CS: '3D'\n",
              "(0018, 0025) Angio Flag                          CS: 'N'\n",
              "(0018, 0050) Slice Thickness                     DS: \"1.0\"\n",
              "(0018, 0080) Repetition Time                     DS: \"12.436\"\n",
              "(0018, 0081) Echo Time                           DS: \"5.156\"\n",
              "(0018, 0082) Inversion Time                      DS: \"450.0\"\n",
              "(0018, 0083) Number of Averages                  DS: \"1.0\"\n",
              "(0018, 0084) Imaging Frequency                   DS: \"63.843505\"\n",
              "(0018, 0085) Imaged Nucleus                      SH: '1H'\n",
              "(0018, 0086) Echo Number(s)                      IS: \"1\"\n",
              "(0018, 0087) Magnetic Field Strength             DS: \"1.5\"\n",
              "(0018, 0088) Spacing Between Slices              DS: \"1.0\"\n",
              "(0018, 0091) Echo Train Length                   IS: \"1\"\n",
              "(0018, 0093) Percent Sampling                    DS: \"100.0\"\n",
              "(0018, 0094) Percent Phase Field of View         DS: \"65.0\"\n",
              "(0018, 0095) Pixel Bandwidth                     DS: \"61.0547\"\n",
              "(0018, 1000) Device Serial Number                LO: '00000000A1111111'\n",
              "(0018, 1020) Software Versions                   LO: '1.0.2'\n",
              "(0018, 1030) Protocol Name                       LO: 'Protocol-HR'\n",
              "(0018, 1088) Heart Rate                          IS: \"0\"\n",
              "(0018, 1090) Cardiac Number of Images            IS: \"0\"\n",
              "(0018, 1094) Trigger Window                      IS: \"0\"\n",
              "(0018, 1100) Reconstruction Diameter             DS: \"256.0\"\n",
              "(0018, 1250) Receive Coil Name                   SH: '8ch-Head'\n",
              "(0018, 1310) Acquisition Matrix                  US: [0, 256, 256, 0]\n",
              "(0018, 1312) In-plane Phase Encoding Direction   CS: 'ROW'\n",
              "(0018, 1314) Flip Angle                          DS: \"13.0\"\n",
              "(0018, 1315) Variable Flip Angle Flag            CS: 'N'\n",
              "(0018, 1316) SAR                                 DS: \"0.0638736\"\n",
              "(0018, 5100) Patient Position                    CS: 'HFS'\n",
              "(0020, 000d) Study Instance UID                  UI: 1.2.826.0.1.3680043.2.97.19529.21573.753741207.170217160932955\n",
              "(0020, 000e) Series Instance UID                 UI: 1.2.840.113619.2.312.6945.3968600.14323.1487314313.343\n",
              "(0020, 0010) Study ID                            SH: '6702'\n",
              "(0020, 0011) Series Number                       IS: \"4\"\n",
              "(0020, 0012) Acquisition Number                  IS: \"1\"\n",
              "(0020, 0013) Instance Number                     IS: \"68\"\n",
              "(0020, 0032) Image Position (Patient)            DS: [-127.764, -142.711, 27.7126]\n",
              "(0020, 0037) Image Orientation (Patient)         DS: [0.998783, 0.000579836, -0.0493181, 0.00390633, 0.995879, 0.0906093]\n",
              "(0020, 0052) Frame of Reference UID              UI: 1.2.840.113619.2.312.6945.3968600.14323.1487314313.340\n",
              "(0020, 0060) Laterality                          CS: ''\n",
              "(0020, 1002) Images in Acquisition               IS: \"144\"\n",
              "(0020, 1040) Position Reference Indicator        LO: ''\n",
              "(0020, 1041) Slice Location                      DS: \"32.98758698\"\n",
              "(0028, 0002) Samples per Pixel                   US: 1\n",
              "(0028, 0004) Photometric Interpretation          CS: 'MONOCHROME2'\n",
              "(0028, 0010) Rows                                US: 512\n",
              "(0028, 0011) Columns                             US: 512\n",
              "(0028, 0030) Pixel Spacing                       DS: [0.5, 0.5]\n",
              "(0028, 0100) Bits Allocated                      US: 16\n",
              "(0028, 0101) Bits Stored                         US: 16\n",
              "(0028, 0102) High Bit                            US: 15\n",
              "(0028, 0103) Pixel Representation                US: 1\n",
              "(0028, 0106) Smallest Image Pixel Value          SS: 0\n",
              "(0028, 0107) Largest Image Pixel Value           SS: 4305\n",
              "(0028, 1050) Window Center                       DS: \"2152.0\"\n",
              "(0028, 1051) Window Width                        DS: \"4305.0\"\n",
              "(0040, 0253) Performed Procedure Step ID         SH: 'MR1487356341'\n",
              "(0040, 0254) Performed Procedure Step Descriptio LO: 'Brain MRI'\n",
              "(7fe0, 0010) Pixel Data                          OW: Array of 524288 elements"
            ]
          },
          "metadata": {
            "tags": []
          },
          "execution_count": 12
        }
      ]
    },
    {
      "cell_type": "code",
      "metadata": {
        "id": "PyScv8TQNEjI",
        "colab": {
          "base_uri": "https://localhost:8080/"
        },
        "outputId": "c5a46c9b-b828-45d0-a24e-570202787f80"
      },
      "source": [
        "# Normal mode:\n",
        "print()\n",
        "print(\"Filename.........:\", filename)\n",
        "print(\"Storage type.....:\", dataset.SOPClassUID)\n",
        "print()\n",
        "\n",
        "pat_name = dataset.PatientName\n",
        "display_name = pat_name.family_name + \", \" + pat_name.given_name\n",
        "display_name = ','.join([pat_name.family_name, pat_name.given_name])\n",
        "print(\"Patient's name...:\", display_name)\n",
        "print(\"Patient id.......:\", dataset.PatientID)\n",
        "print(\"Modality.........:\", dataset.Modality)\n",
        "print(\"Study Date.......:\", dataset.StudyDate)\n",
        "\n",
        "if 'PixelData' in dataset:\n",
        "    rows = int(dataset.Rows)\n",
        "    cols = int(dataset.Columns)\n",
        "    print(\"Image size.......: {rows:d} x {cols:d}, {size:d} bytes\".format(\n",
        "        rows=rows, cols=cols, size=len(dataset.PixelData)))\n",
        "    if 'PixelSpacing' in dataset:\n",
        "        print(\"Pixel spacing....:\", dataset.PixelSpacing)\n"
      ],
      "execution_count": 13,
      "outputs": [
        {
          "output_type": "stream",
          "text": [
            "\n",
            "Filename.........: /content/drive/My Drive/cmepda_medphys_dataset/IMAGES/DICOM_Examples/Brain_MRI/IM67_1slice.dcm\n",
            "Storage type.....: 1.2.840.10008.5.1.4.1.1.4\n",
            "\n",
            "Patient's name...: Maria Bianchi,\n",
            "Patient id.......: 1234\n",
            "Modality.........: MR\n",
            "Study Date.......: 20170217\n",
            "Image size.......: 512 x 512, 524288 bytes\n",
            "Pixel spacing....: [0.5, 0.5]\n"
          ],
          "name": "stdout"
        }
      ]
    },
    {
      "cell_type": "code",
      "metadata": {
        "id": "fQ39PA2RNEjK",
        "colab": {
          "base_uri": "https://localhost:8080/"
        },
        "outputId": "6d0367eb-767f-4a01-ea59-c7b1ff725a55"
      },
      "source": [
        "# use .get() if not sure the item exists, and want a default value if missing\n",
        "print(\"Slice location...:\", dataset.get('SliceLocation', \"(missing)\"))"
      ],
      "execution_count": 14,
      "outputs": [
        {
          "output_type": "stream",
          "text": [
            "Slice location...: 32.98758698\n"
          ],
          "name": "stdout"
        }
      ]
    },
    {
      "cell_type": "code",
      "metadata": {
        "id": "m1puIdE4NEjL",
        "colab": {
          "base_uri": "https://localhost:8080/",
          "height": 269
        },
        "outputId": "ee4fd23c-9669-42bd-9104-e96d45b5a0a4"
      },
      "source": [
        "# plot the image using matplotlib\n",
        "plt.imshow(dataset.pixel_array, cmap=plt.cm.bone)\n",
        "plt.show()"
      ],
      "execution_count": 15,
      "outputs": [
        {
          "output_type": "display_data",
          "data": {
            "image/png": "[encoded data removed]",
            "text/plain": [
              "<Figure size 432x288 with 1 Axes>"
            ]
          },
          "metadata": {
            "tags": [],
            "needs_background": "light"
          }
        }
      ]
    },
    {
      "cell_type": "code",
      "metadata": {
        "id": "AzOQL7U-NEjM"
      },
      "source": [
        ""
      ],
      "execution_count": null,
      "outputs": []
    }
  ]
}